{
 "cells": [
  {
   "attachments": {},
   "cell_type": "markdown",
   "metadata": {},
   "source": [
    "# 2.Problem Statement\n",
    "\n",
    "#Problem Statement 1:\n",
    "\n",
    "You survey households in your area to find the average rent they are paying. Find the\n",
    "standard deviation from the following data:\n",
    "$1550, $1700, $900, $850, $1000, $950.\n",
    "\n",
    "\n",
    "Ans. The Formula for finding Standard Deviation for Sample is:\n",
    "\n",
    "![](standard-deviation-sample.gif)\n",
    "\n"
   ]
  },
  {
   "cell_type": "code",
   "execution_count": null,
   "metadata": {},
   "outputs": [],
   "source": [
    "1.Taking out the mean (xˉ):1550+1700+900+850+1000+950/6 = 1158.3(approx. 1158)\n",
    "\n",
    "2. Then for each value subtracting the mean and squaring the result\n",
    "1550-1158= (392)^2=153664\n",
    "1700-1158= (542)^2=293764\n",
    "900-1158= (-258)^2=66564\n",
    "850-1158= (-308)^2=94864\n",
    "1000-1158= (-158)^2=24964\n",
    "950-1158= (-208)^2=43264\n",
    "\n",
    "3. Taking out the mean of squared differences:\n",
    "But we are taking out Sample Standard Deviation hence their sum will be divided by N-1:\n",
    "\n",
    "153664+293764+66564+94864+24964+43264/5= 135416.8\n",
    "\n",
    "4. Taking out the Square Root of: 135416.8\n",
    "\n",
    "Answer=367.99"
   ]
  },
  {
   "attachments": {},
   "cell_type": "markdown",
   "metadata": {},
   "source": [
    "#Problem Statement 2:\n",
    "\n",
    "Find the variance for the following set of data representing trees in California (heights in\n",
    "feet):\n",
    "3, 21, 98, 203, 17, 9\n",
    "\n",
    "Ans.The Formula for finding Variance for Sample is:\n",
    "\n",
    "![](index.png)"
   ]
  },
  {
   "cell_type": "code",
   "execution_count": null,
   "metadata": {},
   "outputs": [],
   "source": [
    "1.Taking out the mean (xˉ): = 3+21+98+203+17+9/6= 58.5\n",
    "\n",
    "2. Then for each value subtracting the mean and squaring the result\n",
    "3-58.5= (-55.5)^2=3080.25\n",
    "21-58.5= (-37.5)^2=1406.25\n",
    "98-58.5= (39.5)^2=1560.25\n",
    "203-58.5= (144.5)^2=20880.25\n",
    "17-58.5= (-41.5)^2=1722.25\n",
    "9-58.5= (-49.5)^2=2450.25\n",
    "\n",
    "3. Taking out the mean of squared differences:\n",
    "But we are taking out Sample Variance hence their sum will be divided by N-1:\n",
    "\n",
    "3080.25+1406.25+1560.25+20880.25+1722.25+2450.25/5= 6219.9\n",
    "\n",
    "Answer=6219.9"
   ]
  },
  {
   "cell_type": "code",
   "execution_count": null,
   "metadata": {},
   "outputs": [],
   "source": [
    "#Problem Statement 3:\n",
    "\n",
    "In a class of 100 students, 80 students passed in all subjects, 10 failed in one subject, 7\n",
    "failed in two subjects and 3 failed in three subjects. Find the probability distribution of\n",
    "the variable for number of subjects a student from the given class has failed in.\n",
    "\n",
    "Ans. Let x be the number of subjects a student has failed in\n",
    "\n",
    "The probability for x=0(when subjects failed is 0): P(x=0)= 80/100 = 4/5\n",
    "The probability for x=1(when subjects failed is 1): P(x=1)= 10/100 = 1/10\n",
    "The probability for x=2(when subjects failed is 2): P(x=2) = 7/100 = 7/100\n",
    "The probability for x=2(when subjects failed is 3): P(x=3) = 3/100 = 3/100\n",
    "\n",
    "Therefore the Probability Distribution is:\n",
    "x =   0 ,   1 ,   2  ,   3\n",
    "P(x)=4/5, 1/10, 7/100, 3/100\n"
   ]
  }
 ],
 "metadata": {
  "kernelspec": {
   "display_name": "Python 3",
   "language": "python",
   "name": "python3"
  },
  "language_info": {
   "codemirror_mode": {
    "name": "ipython",
    "version": 3
   },
   "file_extension": ".py",
   "mimetype": "text/x-python",
   "name": "python",
   "nbconvert_exporter": "python",
   "pygments_lexer": "ipython3",
   "version": "3.7.3"
  }
 },
 "nbformat": 4,
 "nbformat_minor": 2
}
